{
 "cells": [
  {
   "cell_type": "markdown",
   "id": "cb252315-7a44-4f52-b89d-ebec2f865d03",
   "metadata": {},
   "source": [
    "### DS DL Internship 16/6/25, Parth Gawad"
   ]
  },
  {
   "cell_type": "markdown",
   "id": "00a0c015-da2b-4d60-9db9-03299306c588",
   "metadata": {},
   "source": [
    "#### Multiply all the odd numbers in the given list"
   ]
  },
  {
   "cell_type": "code",
   "execution_count": 6,
   "id": "a77c720c-dac0-4c47-b4e1-0eea435533ed",
   "metadata": {},
   "outputs": [
    {
     "name": "stdout",
     "output_type": "stream",
     "text": [
      "The final answer is : 15\n"
     ]
    }
   ],
   "source": [
    "randomlist = [1,2,3,4,5]\n",
    "result = 1\n",
    "for _ in randomlist : \n",
    "    if _ % 2 != 0 :\n",
    "        result *= _\n",
    "print(f'The final answer is : {result}');"
   ]
  },
  {
   "cell_type": "markdown",
   "id": "43c1cbe7-265a-4abe-9190-3a45dae68eff",
   "metadata": {},
   "source": [
    "#### Multiply all the even numbers in the given list"
   ]
  },
  {
   "cell_type": "code",
   "execution_count": 8,
   "id": "9297cffe-8f39-4717-abf7-38957718b1be",
   "metadata": {},
   "outputs": [
    {
     "name": "stdout",
     "output_type": "stream",
     "text": [
      "The final answer is : 8\n"
     ]
    }
   ],
   "source": [
    "randomlist = [1,2,3,4,5]\n",
    "result = 1\n",
    "for _ in randomlist : \n",
    "    if _ % 2 != 1 :\n",
    "        result *= _\n",
    "print(f'The final answer is : {result}');"
   ]
  },
  {
   "cell_type": "markdown",
   "id": "d8b8a77b-01d4-4461-bf12-0600e391b6e0",
   "metadata": {},
   "source": [
    "### Numpy"
   ]
  },
  {
   "cell_type": "code",
   "execution_count": 10,
   "id": "6c20e5c1-c207-4ad2-aeae-b145a6007089",
   "metadata": {},
   "outputs": [
    {
     "data": {
      "text/plain": [
       "array([[1, 2, 3],\n",
       "       [4, 5, 6]])"
      ]
     },
     "execution_count": 10,
     "metadata": {},
     "output_type": "execute_result"
    }
   ],
   "source": [
    "import numpy as np\n",
    "inputarr = np.array ([\n",
    "    [1,2,3],\n",
    "    [4,5,6]\n",
    "])\n",
    "inputarr"
   ]
  },
  {
   "cell_type": "code",
   "execution_count": 11,
   "id": "e641c647-8896-4a36-84b8-b93028590835",
   "metadata": {},
   "outputs": [
    {
     "data": {
      "text/plain": [
       "(2, 3)"
      ]
     },
     "execution_count": 11,
     "metadata": {},
     "output_type": "execute_result"
    }
   ],
   "source": [
    "inputarr.shape\n"
   ]
  },
  {
   "cell_type": "code",
   "execution_count": 14,
   "id": "0090912f-682f-42ba-9082-f8c9f7e4f33d",
   "metadata": {},
   "outputs": [
    {
     "data": {
      "text/plain": [
       "np.int64(5)"
      ]
     },
     "execution_count": 14,
     "metadata": {},
     "output_type": "execute_result"
    }
   ],
   "source": [
    "inputarr[1][1]"
   ]
  },
  {
   "cell_type": "code",
   "execution_count": 15,
   "id": "f4382ce4-44e5-4661-b93c-e370646de8a0",
   "metadata": {},
   "outputs": [
    {
     "data": {
      "text/plain": [
       "array([2, 3])"
      ]
     },
     "execution_count": 15,
     "metadata": {},
     "output_type": "execute_result"
    }
   ],
   "source": [
    "inputarr[0][1:]"
   ]
  },
  {
   "cell_type": "markdown",
   "id": "74f61c0b-aaeb-44a0-8dbc-522589461ee4",
   "metadata": {},
   "source": [
    "#### Sorting the array"
   ]
  },
  {
   "cell_type": "code",
   "execution_count": 16,
   "id": "e9a61403-7dd5-465f-909f-0ca8cedd25a5",
   "metadata": {},
   "outputs": [
    {
     "data": {
      "text/plain": [
       "array([   2,    2,   34,   62, 1200])"
      ]
     },
     "execution_count": 16,
     "metadata": {},
     "output_type": "execute_result"
    }
   ],
   "source": [
    "arr = np.array([1200,34,2,62,2])\n",
    "np.sort(arr)"
   ]
  },
  {
   "cell_type": "markdown",
   "id": "5e754397-c63b-4766-b3e3-f29caf52d9f1",
   "metadata": {},
   "source": [
    "#### Reshape the array "
   ]
  },
  {
   "cell_type": "code",
   "execution_count": 18,
   "id": "38867e1f-af9c-4751-8c29-3f8645c49e73",
   "metadata": {},
   "outputs": [
    {
     "name": "stdout",
     "output_type": "stream",
     "text": [
      "[0 1 2 3 4 5]\n"
     ]
    }
   ],
   "source": [
    "a = np.arange(6)\n",
    "print(a)"
   ]
  },
  {
   "cell_type": "code",
   "execution_count": 19,
   "id": "edc44b67-e34e-4057-9597-7c06c1371225",
   "metadata": {},
   "outputs": [
    {
     "name": "stdout",
     "output_type": "stream",
     "text": [
      "[[0 1 2]\n",
      " [3 4 5]]\n"
     ]
    }
   ],
   "source": [
    "b = a.reshape(2,3)\n",
    "print(b)"
   ]
  },
  {
   "cell_type": "code",
   "execution_count": null,
   "id": "6f318b82-2037-4d9f-883f-8544eccf118a",
   "metadata": {},
   "outputs": [],
   "source": []
  }
 ],
 "metadata": {
  "kernelspec": {
   "display_name": "Python 3 (ipykernel)",
   "language": "python",
   "name": "python3"
  },
  "language_info": {
   "codemirror_mode": {
    "name": "ipython",
    "version": 3
   },
   "file_extension": ".py",
   "mimetype": "text/x-python",
   "name": "python",
   "nbconvert_exporter": "python",
   "pygments_lexer": "ipython3",
   "version": "3.12.10"
  }
 },
 "nbformat": 4,
 "nbformat_minor": 5
}
