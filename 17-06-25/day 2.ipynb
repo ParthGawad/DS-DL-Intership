{
 "cells": [
  {
   "cell_type": "markdown",
   "id": "a08cb7b6",
   "metadata": {},
   "source": [
    "### DS DL Internship day 2 17/6/25, Parth Gawad"
   ]
  },
  {
   "cell_type": "markdown",
   "id": "067a1f65",
   "metadata": {},
   "source": []
  }
 ],
 "metadata": {
  "language_info": {
   "name": "python"
  }
 },
 "nbformat": 4,
 "nbformat_minor": 5
}
